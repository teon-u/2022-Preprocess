{
 "cells": [
  {
   "cell_type": "code",
   "execution_count": 247,
   "metadata": {},
   "outputs": [],
   "source": [
    "\"\"\"  0. 데이터 입력  \"\"\"\n",
    "import os\n",
    "import pandas as pd\n",
    "import numpy as np\n",
    "from datetime import timedelta\n",
    "df = pd.read_excel('Data/'+'2021_출동현황_화재_펌프차_중복제거_시간제거_최종.xlsx')\n",
    "dfm = pd.read_excel('Data/'+'mapping_table.xlsx')"
   ]
  },
  {
   "cell_type": "code",
   "execution_count": 248,
   "metadata": {},
   "outputs": [
    {
     "name": "stdout",
     "output_type": "stream",
     "text": [
      "분류불가 주소:  1109 (두산위브더스 101동 지하1층 방재실)\n",
      "분류불가 주소:  0 (강산타워 6층 604호)\n",
      "결측치 주소: 0\n",
      "원본 컬럼의 결측치 : 1\n",
      "분류 불가 : 2\n",
      "Base Row : 38000\n",
      "Made Row : 38000\n"
     ]
    }
   ],
   "source": [
    "\"\"\"  1. 시구분  \"\"\"\n",
    "temp_list = []\n",
    "nan_count = 0\n",
    "not_count = 0\n",
    "for i in df['loc']: # loc 컬럼 한바퀴 돌리기\n",
    "    try:\n",
    "        temp = i.split() # 단어단위로 분할\n",
    "        temp = temp[1][:-1]\n",
    "        if len(temp) <= 3:\n",
    "            temp_list.append(temp) # 각 주소의 두번째 단어인 시 추출, 리스트 추가, \"~시\" 제거\n",
    "        else: # 시 이름이 4글자 이상이면\n",
    "            if temp in ['의정부','수원남부','동두천','남양주']: # 요 안에 있으면 추가\n",
    "                temp_list.append(temp)\n",
    "            else: # 없으면 분류불가 처리\n",
    "                temp_list.append(\"분류불가\")\n",
    "                print(\"분류불가 주소:\",i)\n",
    "                not_count += 1\n",
    "    except:\n",
    "        temp_list.append(np.nan) # 결측치 처리\n",
    "        print(\"결측치 주소:\",i)\n",
    "        nan_count += 1 # 결측치 세기\n",
    "print(\"원본 컬럼의 결측치 :\",nan_count)\n",
    "print(\"분류 불가 :\",not_count)\n",
    "print(\"Base Row :\",len(df['loc']))\n",
    "print(\"Made Row :\",len(temp_list))\n",
    "df['시구분'] = temp_list"
   ]
  },
  {
   "cell_type": "code",
   "execution_count": 249,
   "metadata": {},
   "outputs": [
    {
     "name": "stdout",
     "output_type": "stream",
     "text": [
      "원본 컬럼의 결측치 : 0\n",
      "분류 불가 : 3\n",
      "Base Row : 38000\n",
      "Made Row : 38000\n"
     ]
    }
   ],
   "source": [
    "\"\"\"  2. 도농구분  \"\"\"\n",
    "# 도시 리스트\n",
    "city_list = ['성남','분당','안양','광명','수원','수원남부','하남','부천','군포','구리','오산','의정부','안산','의왕','시흥','과천','동두천','일산','고양']\n",
    "# 도농복합 리스트\n",
    "dnbh_list = ['평택','송탄','포천','연천','양주','김포','남양주','파주','가평','용인','이천','안성','양평','여주','화성','광주']\n",
    "\n",
    "temp_list = []\n",
    "nan_count = 0\n",
    "not_count = 0\n",
    "for i in df['시구분']:\n",
    "    try:\n",
    "        if i in city_list: # 도시 리스트 안에 있으면 도시, \"성남시\" 로 표현되어있어 \"시\" 제외\n",
    "            temp_list.append(\"도시\")\n",
    "        elif i in dnbh_list: # 도농복합 리스트 안에 있으면 도농복합\n",
    "            temp_list.append(\"도농복합\")\n",
    "        else:\n",
    "            temp_list.append(\"분류불가\")\n",
    "            not_count += 1\n",
    "            #print(i) #디버그용\n",
    "    except: # 위에서 에러나면 결측값 처리 (Float 자료형 등등)\n",
    "        temp_list.append(np.nan)\n",
    "        nan_count += 1\n",
    "print(\"원본 컬럼의 결측치 :\",nan_count)\n",
    "print(\"분류 불가 :\",not_count)\n",
    "print(\"Base Row :\",len(df['시구분']))\n",
    "print(\"Made Row :\",len(temp_list))\n",
    "\n",
    "df['도농구분'] = temp_list\n",
    "\n",
    "# 이상한 값\n",
    "# row:14976 / column:loc / 1109(두산위브더스 101동 지하1층 방재실)\n",
    "# row:24230 / column:loc / 0(강산타워 6층 604호)\n"
   ]
  },
  {
   "cell_type": "code",
   "execution_count": 250,
   "metadata": {},
   "outputs": [
    {
     "name": "stdout",
     "output_type": "stream",
     "text": [
      "원본 컬럼의 결측치 : 0\n",
      "Base Row : 38000\n",
      "Made Row : 38000\n"
     ]
    }
   ],
   "source": [
    "\"\"\" 3. 1번  \"\"\"\n",
    "temp_list = []\n",
    "nan_count = 0\n",
    "for i in range(len(df)): # 데이터프레임 길이로 반복문 돌리기\n",
    "    try:\n",
    "        temp = df['move_order'][i] - df['start_date'][i] # move order 에서 start date 빼기\n",
    "    except:\n",
    "        temp = np.nan # 앞의 계산이 안되면 결측치 처리\n",
    "        nan_count += 1\n",
    "        \n",
    "    temp_list.append(temp)\n",
    "\n",
    "print(\"원본 컬럼의 결측치 :\",nan_count)\n",
    "print(\"Base Row :\",len(df))\n",
    "print(\"Made Row :\",len(temp_list))\n",
    "df['1번'] = temp_list"
   ]
  },
  {
   "cell_type": "code",
   "execution_count": 251,
   "metadata": {},
   "outputs": [
    {
     "name": "stdout",
     "output_type": "stream",
     "text": [
      "원본 컬럼의 결측치 : 0\n",
      "Base Row : 38000\n",
      "Made Row : 38000\n"
     ]
    }
   ],
   "source": [
    "\"\"\"  4. 2번  \"\"\"\n",
    "temp_list = []\n",
    "nan_count = 0\n",
    "for i in range(len(df)): # 데이터프레임 길이로 반복문 돌리기\n",
    "    try:\n",
    "        temp = df['move_date'][i] - df['move_order'][i] # move date 에서 move order 빼기\n",
    "    except:\n",
    "        temp = np.nan # 앞의 계산이 안되면 결측치 처리\n",
    "        nan_count += 1\n",
    "        \n",
    "    temp_list.append(temp)\n",
    "\n",
    "print(\"원본 컬럼의 결측치 :\",nan_count)\n",
    "print(\"Base Row :\",len(df))\n",
    "print(\"Made Row :\",len(temp_list))\n",
    "df['2번'] = temp_list"
   ]
  },
  {
   "cell_type": "code",
   "execution_count": 252,
   "metadata": {},
   "outputs": [
    {
     "name": "stdout",
     "output_type": "stream",
     "text": [
      "원본 컬럼의 결측치 : 0\n",
      "Base Row : 38000\n",
      "Made Row : 38000\n"
     ]
    }
   ],
   "source": [
    "\"\"\"  5. 3번  \"\"\"\n",
    "temp_list = []\n",
    "nan_count = 0\n",
    "for i in range(len(df)): # 데이터프레임 길이로 반복문 돌리기\n",
    "    try:\n",
    "        temp = df['field_arrive'][i] - df['move_date'][i] #  field arrive 에서 move date 빼기\n",
    "    except:\n",
    "        temp = np.nan # 앞의 계산이 안되면 결측치 처리\n",
    "        nan_count += 1\n",
    "        \n",
    "    temp_list.append(temp)\n",
    "\n",
    "print(\"원본 컬럼의 결측치 :\",nan_count)\n",
    "print(\"Base Row :\",len(df))\n",
    "print(\"Made Row :\",len(temp_list))\n",
    "df['3번'] = temp_list"
   ]
  },
  {
   "cell_type": "code",
   "execution_count": 253,
   "metadata": {},
   "outputs": [
    {
     "name": "stdout",
     "output_type": "stream",
     "text": [
      "원본 컬럼의 결측치 : 0\n",
      "Base Row : 38000\n",
      "Made Row : 38000\n"
     ]
    }
   ],
   "source": [
    "\"\"\"  6. 1+2+3  \"\"\"\n",
    "temp_list = []\n",
    "nan_count = 0\n",
    "for i in range(len(df)):\n",
    "    try:\n",
    "        temp = df['1번'][i] + df['2번'][i] + df['3번'][i] # 1+2+3번\n",
    "    except:\n",
    "        temp = np.nan # 앞의 계산이 안되면 결측치 처리\n",
    "        nan_count += 1\n",
    "    \n",
    "    temp_list.append(temp)\n",
    "\n",
    "print(\"원본 컬럼의 결측치 :\",nan_count)\n",
    "print(\"Base Row :\",len(df))\n",
    "print(\"Made Row :\",len(temp_list))\n",
    "df['1+2+3'] = temp_list"
   ]
  },
  {
   "cell_type": "code",
   "execution_count": 254,
   "metadata": {},
   "outputs": [
    {
     "name": "stdout",
     "output_type": "stream",
     "text": [
      "원본 컬럼의 결측치 : 0\n",
      "분류 불가 : 0\n",
      "Base Row : 38000\n",
      "Made Row : 38000\n"
     ]
    }
   ],
   "source": [
    "\"\"\"  7. 골든타임여부  \"\"\"\n",
    "golden_time = timedelta(days=0, hours=0, minutes=7)\n",
    "temp_list = []\n",
    "nan_count = 0\n",
    "not_count = 0\n",
    "for i in range(len(df)):\n",
    "    try:\n",
    "        if df['1+2+3'][i] <= golden_time:\n",
    "            temp_list.append('유')\n",
    "        elif df['1+2+3'][i] > golden_time:\n",
    "            temp_list.append('무')\n",
    "        else:\n",
    "            temp_list.append('분류불가')\n",
    "            not_count += 1\n",
    "    except:\n",
    "        temp_list.append(np.nan)\n",
    "        nan_count += 1\n",
    "\n",
    "print(\"원본 컬럼의 결측치 :\",nan_count)\n",
    "print(\"분류 불가 :\",not_count)\n",
    "print(\"Base Row :\",len(df['1+2+3']))\n",
    "print(\"Made Row :\",len(temp_list))\n",
    "df['골든타임여부'] = temp_list"
   ]
  },
  {
   "cell_type": "code",
   "execution_count": 255,
   "metadata": {},
   "outputs": [
    {
     "name": "stdout",
     "output_type": "stream",
     "text": [
      "원본 컬럼의 결측치 : 0\n",
      "분류 불가 : 3\n",
      "Base Row : 38000\n",
      "Made Row : 38000\n"
     ]
    }
   ],
   "source": [
    "\"\"\"  8. 3번에 감소율적용  \"\"\"\n",
    "temp_list = []\n",
    "nan_count = 0\n",
    "not_count = 0\n",
    "add1 = 22 # 도시\n",
    "add2 = 33 # 도농복합\n",
    "for i in range(len(df)):\n",
    "    temp = df['3번'][i] # '3번' 값\n",
    "    try:\n",
    "        if df['도농구분'][i] == '도시':\n",
    "            temp_list.append(temp - (temp * add1 / 100)) # 감소율 계산\n",
    "        elif df['도농구분'][i] == '도농복합':\n",
    "            temp_list.append(temp - (temp * add2 / 100)) # 감소율 계산\n",
    "        else:\n",
    "            temp_list.append(\"분류불가\")\n",
    "            #print(\"[시구분]:\",df['시구분'][i],\"/ [도농구분]:\",df['도농구분'][i],\"/ [3번값]\",temp) #분류불가 워떤건지 Check\n",
    "            not_count += 1\n",
    "    except:\n",
    "        temp_list.append(np.nan)\n",
    "        nan_count += 1\n",
    "\n",
    "print(\"원본 컬럼의 결측치 :\",nan_count) # '3번' 컬럼이 결측치인 경우\n",
    "print(\"분류 불가 :\",not_count) # 도시나 도농복합이 아닌경우\n",
    "print(\"Base Row :\",len(df))\n",
    "print(\"Made Row :\",len(temp_list))\n",
    "df['3번에 감소율적용'] = temp_list"
   ]
  },
  {
   "cell_type": "code",
   "execution_count": 256,
   "metadata": {},
   "outputs": [
    {
     "name": "stdout",
     "output_type": "stream",
     "text": [
      "원본 컬럼의 결측치 : 3\n",
      "Base Row : 38000\n",
      "Made Row : 38000\n"
     ]
    }
   ],
   "source": [
    "\"\"\"  9. 1+2+3감소율  \"\"\"\n",
    "temp_list = []\n",
    "nan_count = 0\n",
    "for i in range(len(df)):\n",
    "    try:\n",
    "        temp = df['1번'][i] + df['2번'][i] + df['3번에 감소율적용'][i] # 1+2+3번에 감소율적용\n",
    "    except:\n",
    "        temp = np.nan # 앞의 계산이 안되면 결측치 처리\n",
    "        nan_count += 1\n",
    "    \n",
    "    temp_list.append(temp)\n",
    "\n",
    "print(\"원본 컬럼의 결측치 :\",nan_count)\n",
    "print(\"Base Row :\",len(df))\n",
    "print(\"Made Row :\",len(temp_list))\n",
    "df['1+2+3감소율'] = temp_list"
   ]
  },
  {
   "cell_type": "code",
   "execution_count": 257,
   "metadata": {},
   "outputs": [
    {
     "name": "stdout",
     "output_type": "stream",
     "text": [
      "원본 컬럼의 결측치 : 0\n",
      "분류 불가 : 3\n",
      "Base Row : 38000\n",
      "Made Row : 38000\n"
     ]
    }
   ],
   "source": [
    "\"\"\"  10. 골든타임여부2  \"\"\"\n",
    "golden_time = timedelta(days=0, hours=0, minutes=7)\n",
    "temp_list = []\n",
    "nan_count = 0\n",
    "not_count = 0\n",
    "for i in range(len(df)):\n",
    "    try:\n",
    "        if df['1+2+3감소율'][i] <= golden_time:\n",
    "            temp_list.append('유')\n",
    "        elif df['1+2+3감소율'][i] > golden_time:\n",
    "            temp_list.append('무')\n",
    "        else:\n",
    "            temp_list.append('분류불가')\n",
    "            not_count += 1\n",
    "    except:\n",
    "        temp_list.append(np.nan)\n",
    "        nan_count += 1\n",
    "\n",
    "print(\"원본 컬럼의 결측치 :\",nan_count)\n",
    "print(\"분류 불가 :\",not_count)\n",
    "print(\"Base Row :\",len(df['1+2+3감소율']))\n",
    "print(\"Made Row :\",len(temp_list))\n",
    "df['골든타임여부2'] = temp_list"
   ]
  },
  {
   "cell_type": "code",
   "execution_count": 258,
   "metadata": {},
   "outputs": [
    {
     "name": "stdout",
     "output_type": "stream",
     "text": [
      "원본 컬럼의 결측치 : 3\n",
      "Base Row : 38000\n",
      "Made Row : 38000\n"
     ]
    }
   ],
   "source": [
    "\"\"\"  11. 가중치적용  \"\"\"\n",
    "temp_list = []\n",
    "nan_count = 0\n",
    "mapping_dict = dfm.set_index('구분').T.to_dict('records')[0] # dfm(매핑테이블)을 딕셔너리 구조로 변경 {'이천시' : 0.0427}\n",
    "for i in range(len(df)):\n",
    "    try:\n",
    "        weight = mapping_dict[df['시구분'][i]] # 시별 가중치 추출\n",
    "        temp = df['1+2+3감소율'][i] * weight + df['1+2+3감소율'][i] # 가중치 적용값 계산\n",
    "        temp_list.append(temp)\n",
    "    except:\n",
    "        temp_list.append(np.nan)\n",
    "        nan_count += 1\n",
    "print(\"원본 컬럼의 결측치 :\",nan_count)\n",
    "print(\"Base Row :\",len(df['1+2+3감소율']))\n",
    "print(\"Made Row :\",len(temp_list))\n",
    "df['가중치적용'] = temp_list\n"
   ]
  },
  {
   "cell_type": "code",
   "execution_count": 259,
   "metadata": {},
   "outputs": [
    {
     "name": "stdout",
     "output_type": "stream",
     "text": [
      "원본 컬럼의 결측치 : 0\n",
      "분류 불가 : 3\n",
      "Base Row : 38000\n",
      "Made Row : 38000\n"
     ]
    }
   ],
   "source": [
    "\"\"\"  12. 골든타임여부3  \"\"\"\n",
    "golden_time = timedelta(days=0, hours=0, minutes=7)\n",
    "temp_list = []\n",
    "nan_count = 0\n",
    "not_count = 0\n",
    "for i in range(len(df)):\n",
    "    try:\n",
    "        if df['가중치적용'][i] <= golden_time:\n",
    "            temp_list.append('유')\n",
    "        elif df['가중치적용'][i] > golden_time:\n",
    "            temp_list.append('무')\n",
    "        else:\n",
    "            temp_list.append('분류불가')\n",
    "            not_count += 1\n",
    "    except:\n",
    "        temp_list.append(np.nan)\n",
    "        nan_count += 1\n",
    "\n",
    "print(\"원본 컬럼의 결측치 :\",nan_count)\n",
    "print(\"분류 불가 :\",not_count)\n",
    "print(\"Base Row :\",len(df['가중치적용']))\n",
    "print(\"Made Row :\",len(temp_list))\n",
    "df['골든타임여부3'] = temp_list"
   ]
  },
  {
   "cell_type": "code",
   "execution_count": 260,
   "metadata": {},
   "outputs": [],
   "source": [
    "\"\"\"  13. 데이터 출력  \"\"\"\n",
    "df.to_excel('Data/'+'output.xlsx')"
   ]
  },
  {
   "cell_type": "markdown",
   "metadata": {},
   "source": [
    "# 시별 효과성 분석 (22-09-17 추가)"
   ]
  },
  {
   "cell_type": "code",
   "execution_count": 261,
   "metadata": {},
   "outputs": [],
   "source": [
    "bef_yu_list = []\n",
    "bef_mu_list = []\n",
    "bef_gold_rate = []\n",
    "aft_yu_list = []\n",
    "aft_mu_list = []\n",
    "aft_gold_rate = []\n",
    "improve_rate = []\n",
    "improve_rate2 = []\n",
    "\n",
    "for i in df['시구분'].unique()[:-2]:\n",
    "    temp_df = df[df['시구분'] == i]\n",
    "    bef_yu_count = 0\n",
    "    bef_mu_count = 0\n",
    "    bef_na_count = 0\n",
    "    aft_yu_count = 0\n",
    "    aft_mu_count = 0\n",
    "    aft_na_count = 0\n",
    "    for bef, aft in zip(temp_df['골든타임여부'],temp_df['골든타임여부2']):\n",
    "\n",
    "        \"\"\" before \"\"\"\n",
    "        if bef == \"유\":\n",
    "            bef_yu_count += 1\n",
    "        elif bef == \"무\":\n",
    "            bef_mu_count += 1\n",
    "        else:\n",
    "            bef_na_count += 1\n",
    "            print(\"na_bef!!\")\n",
    "\n",
    "        \"\"\" after \"\"\"\n",
    "        if aft == \"유\":\n",
    "            aft_yu_count += 1\n",
    "        elif aft == \"무\":\n",
    "            aft_mu_count += 1\n",
    "        else:\n",
    "            aft_na_count += 1\n",
    "            print(\"na_aft!!\")\n",
    "    \n",
    "    #print(i, \"결측치:\", bef_na_count) # 이전 골든타임 결측치\n",
    "    #print(i, \"결측치:\", aft_na_count) # 이후 골든타임 결측치\n",
    "    #print(i, bef_yu_count, bef_mu_count, aft_yu_count, aft_mu_count, bef_yu_count + bef_mu_count, aft_yu_count + aft_mu_count)\n",
    "    bef_yu_list.append(bef_yu_count) # 이전 골든타임 '유'\n",
    "    bef_mu_list.append(bef_mu_count) # 이전 골든타임 '무'\n",
    "    bef_gold = bef_yu_count / (bef_yu_count + bef_mu_count) * 100 # 이전 골든타임 도착률\n",
    "    bef_gold_rate.append(bef_gold) \n",
    "    aft_yu_list.append(aft_yu_count) # 이후 골든타임 '유'\n",
    "    aft_mu_list.append(aft_mu_count) # 이후 골든타임 '무'\n",
    "    aft_gold = aft_yu_count / (aft_yu_count + aft_mu_count) * 100 # 이후 골든타임 도착률\n",
    "    aft_gold_rate.append(aft_gold) \n",
    "    improve = aft_gold - bef_gold\n",
    "    improve_rate.append(improve) # 개선률\n",
    "    improve_rate2.append(improve / bef_gold * 100) # 개선률 2\n",
    "\n",
    "dfs = pd.DataFrame({'시구분':df['시구분'].unique()[:-2]})\n",
    "dfs['전 유'] = bef_yu_list\n",
    "dfs['전 무'] = bef_mu_list\n",
    "dfs['전 총합계'] = dfs['전 유'] + dfs['전 무']\n",
    "dfs['전 골든타임'] = bef_gold_rate\n",
    "dfs['후 유'] = aft_yu_list\n",
    "dfs['후 무'] = aft_mu_list\n",
    "dfs['후 총합계'] = dfs['후 유'] + dfs['후 무']\n",
    "dfs['후 골든타임'] = aft_gold_rate\n",
    "dfs['개선률'] = improve_rate\n",
    "dfs['개선률2'] = improve_rate2\n",
    "dfs = dfs.set_index('시구분')"
   ]
  },
  {
   "cell_type": "code",
   "execution_count": 262,
   "metadata": {},
   "outputs": [],
   "source": [
    "bef_yu_list = []\n",
    "bef_mu_list = []\n",
    "bef_gold_rate = []\n",
    "aft_yu_list = []\n",
    "aft_mu_list = []\n",
    "aft_gold_rate = []\n",
    "improve_rate = []\n",
    "improve_rate2 = []\n",
    "\n",
    "for i in df['시구분'].unique()[:-2]:\n",
    "    temp_df = df[df['시구분'] == i]\n",
    "    bef_yu_count = 0\n",
    "    bef_mu_count = 0\n",
    "    bef_na_count = 0\n",
    "    aft_yu_count = 0\n",
    "    aft_mu_count = 0\n",
    "    aft_na_count = 0\n",
    "    for bef, aft in zip(temp_df['골든타임여부'],temp_df['골든타임여부3']):\n",
    "\n",
    "        \"\"\" before \"\"\"\n",
    "        if bef == \"유\":\n",
    "            bef_yu_count += 1\n",
    "        elif bef == \"무\":\n",
    "            bef_mu_count += 1\n",
    "        else:\n",
    "            bef_na_count += 1\n",
    "            print(\"na_bef!!\")\n",
    "\n",
    "        \"\"\" after \"\"\"\n",
    "        if aft == \"유\":\n",
    "            aft_yu_count += 1\n",
    "        elif aft == \"무\":\n",
    "            aft_mu_count += 1\n",
    "        else:\n",
    "            aft_na_count += 1\n",
    "            print(\"na_aft!!\")\n",
    "    \n",
    "    #print(i, \"결측치:\", bef_na_count) # 이전 골든타임 결측치\n",
    "    #print(i, \"결측치:\", aft_na_count) # 이후 골든타임 결측치\n",
    "    #print(i, bef_yu_count, bef_mu_count, aft_yu_count, aft_mu_count, bef_yu_count + bef_mu_count, aft_yu_count + aft_mu_count)\n",
    "    bef_yu_list.append(bef_yu_count) # 이전 골든타임 '유'\n",
    "    bef_mu_list.append(bef_mu_count) # 이전 골든타임 '무'\n",
    "    bef_gold = bef_yu_count / (bef_yu_count + bef_mu_count) * 100 # 이전 골든타임 도착률\n",
    "    bef_gold_rate.append(bef_gold) \n",
    "    aft_yu_list.append(aft_yu_count) # 이후 골든타임 '유'\n",
    "    aft_mu_list.append(aft_mu_count) # 이후 골든타임 '무'\n",
    "    aft_gold = aft_yu_count / (aft_yu_count + aft_mu_count) * 100 # 이후 골든타임 도착률\n",
    "    aft_gold_rate.append(aft_gold) \n",
    "    improve = aft_gold - bef_gold\n",
    "    improve_rate.append(improve) # 개선률\n",
    "    improve_rate2.append(improve / bef_gold * 100) # 개선률 2\n",
    "\n",
    "dft = pd.DataFrame({'시구분':df['시구분'].unique()[:-2]})\n",
    "dft['전 유'] = bef_yu_list\n",
    "dft['전 무'] = bef_mu_list\n",
    "dft['전 총합계'] = dft['전 유'] + dft['전 무']\n",
    "dft['전 골든타임'] = bef_gold_rate\n",
    "dft['후 유'] = aft_yu_list\n",
    "dft['후 무'] = aft_mu_list\n",
    "dft['후 총합계'] = dft['후 유'] + dft['후 무']\n",
    "dft['후 골든타임'] = aft_gold_rate\n",
    "dft['개선률'] = improve_rate\n",
    "dft['개선률2'] = improve_rate2\n",
    "dft = dft.set_index('시구분')"
   ]
  },
  {
   "cell_type": "code",
   "execution_count": 263,
   "metadata": {},
   "outputs": [],
   "source": [
    "dfs['평균소요시간(초)'] = df['1+2+3'].groupby(df['시구분']).mean().dt.seconds\n",
    "dft['평균소요시간(초)'] = df['1+2+3'].groupby(df['시구분']).mean().dt.seconds"
   ]
  },
  {
   "cell_type": "code",
   "execution_count": 264,
   "metadata": {},
   "outputs": [],
   "source": [
    "with pd.ExcelWriter('Data/output_by_city.xlsx') as writer:\n",
    "    dfs.to_excel(writer, sheet_name = '골든타임여부1-2')\n",
    "    dft.to_excel(writer, sheet_name = '골든타임여부1-3')"
   ]
  },
  {
   "cell_type": "markdown",
   "metadata": {},
   "source": [
    "## 파이썬 전처리 결과값이 엑셀값과 차이나는 이유\n",
    "1. 결측치 1 (주소가 0) -> 고양시\n",
    "2. 분류불가 2 (주소에 시, 군 없음) -> 평택\n",
    "3. 엑셀 = 골든타임 < 7분, 파이썬 = 골든타임 <= 7분 으로 생긴 차이"
   ]
  }
 ],
 "metadata": {
  "kernelspec": {
   "display_name": "Python 3.9.12 ('base')",
   "language": "python",
   "name": "python3"
  },
  "language_info": {
   "codemirror_mode": {
    "name": "ipython",
    "version": 3
   },
   "file_extension": ".py",
   "mimetype": "text/x-python",
   "name": "python",
   "nbconvert_exporter": "python",
   "pygments_lexer": "ipython3",
   "version": "3.9.12 (main, Apr  4 2022, 05:22:27) [MSC v.1916 64 bit (AMD64)]"
  },
  "orig_nbformat": 4,
  "vscode": {
   "interpreter": {
    "hash": "ad2bdc8ecc057115af97d19610ffacc2b4e99fae6737bb82f5d7fb13d2f2c186"
   }
  }
 },
 "nbformat": 4,
 "nbformat_minor": 2
}
