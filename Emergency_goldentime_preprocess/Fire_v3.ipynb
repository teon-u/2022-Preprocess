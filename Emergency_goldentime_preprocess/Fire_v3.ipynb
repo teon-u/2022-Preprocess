{
 "cells": [
  {
   "cell_type": "markdown",
   "metadata": {},
   "source": [
    "# 엑셀 -> 파이썬으로 자동화 처리"
   ]
  },
  {
   "cell_type": "code",
   "execution_count": 1,
   "metadata": {},
   "outputs": [],
   "source": [
    "\"\"\"  0. 데이터 입력  \"\"\"\n",
    "import os\n",
    "import pandas as pd\n",
    "import numpy as np\n",
    "from datetime import timedelta\n",
    "from datetime import time\n",
    "df = pd.read_excel('Data/signal_guide/'+'군포_구급_우선신호_버퍼_교차.xlsx')\n",
    "# 군포 .. 어느동 어느동 어느동 해서 리스트로 만들어서 For 문 돌려버리면 편할 듯함"
   ]
  },
  {
   "cell_type": "code",
   "execution_count": 2,
   "metadata": {},
   "outputs": [
    {
     "data": {
      "text/plain": [
       "Index(['no', 'start_date', 'loc', 'div', 'last_date', 'station', 'center',\n",
       "       'move_station', 'move_center', 'car', 'car_div', 'move_order',\n",
       "       'move_date', 'field_arrive', 'geocoding', 'x', 'y', 'layer', 'path',\n",
       "       'date', 'loc_2', 'center_2', 'station_2', 'sec', 'end', 'id',\n",
       "       'total_time', 'arrive', 'geocoding_2', 'x_2', 'y_2', 'note', 'ringId',\n",
       "       'distance'],\n",
       "      dtype='object')"
      ]
     },
     "execution_count": 2,
     "metadata": {},
     "output_type": "execute_result"
    }
   ],
   "source": [
    "df.columns"
   ]
  },
  {
   "cell_type": "code",
   "execution_count": 237,
   "metadata": {},
   "outputs": [
    {
     "name": "stdout",
     "output_type": "stream",
     "text": [
      "Base Row : 296\n",
      "Made Row : 296\n"
     ]
    }
   ],
   "source": [
    "\"\"\"  1. Time  \"\"\"\n",
    "# move_date 에서 시간만 추출\n",
    "temp_list = []\n",
    "for i in range(len(df)):\n",
    "    temp = df['move_date'][i]\n",
    "    temp_list.append(str(temp)[11:])\n",
    "\n",
    "print(\"Base Row :\",len(df))\n",
    "print(\"Made Row :\",len(temp_list))\n",
    "df['time'] = temp_list"
   ]
  },
  {
   "cell_type": "code",
   "execution_count": 3,
   "metadata": {},
   "outputs": [],
   "source": [
    "\"\"\"  1. Time _ Lambda \"\"\"\n",
    "df['time'] = df['move_date'].apply(lambda x : str(x)[11:])\n",
    "# ㄷㄷ.. 개쩐다;\n",
    "# 근데 단순한건 이렇게 람다식으로 할만한데,, 뒤에있는 무친애들은 하기 힘들듯 디버그가 힘들어서"
   ]
  },
  {
   "cell_type": "code",
   "execution_count": 4,
   "metadata": {},
   "outputs": [
    {
     "data": {
      "text/plain": [
       "0      10:55:47\n",
       "1      13:04:35\n",
       "2      17:11:58\n",
       "3      15:15:37\n",
       "4      21:23:24\n",
       "         ...   \n",
       "291    23:41:26\n",
       "292    10:00:46\n",
       "293    11:29:13\n",
       "294    18:16:20\n",
       "295    11:14:02\n",
       "Name: time, Length: 296, dtype: object"
      ]
     },
     "execution_count": 4,
     "metadata": {},
     "output_type": "execute_result"
    }
   ],
   "source": [
    "df['time']"
   ]
  },
  {
   "cell_type": "code",
   "execution_count": 238,
   "metadata": {},
   "outputs": [
    {
     "name": "stdout",
     "output_type": "stream",
     "text": [
      "Base Row : 296\n",
      "Made Row : 296\n"
     ]
    }
   ],
   "source": [
    "\"\"\"  2. 시간구분  \"\"\"\n",
    "# time 값에 따라 분류\n",
    "temp_list = []\n",
    "for i in range(len(df)):\n",
    "    temp = df['time'][i]\n",
    "    #print(temp[:2],temp[3:5],temp[6:])\n",
    "    temp = timedelta(hours=int(temp[:2]), minutes=int(temp[3:5]), seconds=int(temp[6:]))\n",
    "    #print(temp,type(temp))\n",
    "    if (temp>=timedelta(hours=11)) & (temp<timedelta(hours=14)):\n",
    "        temp_list.append(\"점심\")\n",
    "    elif (temp>=timedelta(hours=17)) & (temp<timedelta(hours=20)):\n",
    "        temp_list.append(\"퇴근\")\n",
    "    elif ((temp>=timedelta(hours=20)) & (temp<timedelta(hours=24)) or temp<timedelta(hours=7)):\n",
    "        temp_list.append(\"일몰\")\n",
    "    elif (temp>=timedelta(hours=7)) & (temp<timedelta(hours=10)):\n",
    "        temp_list.append(\"출근\")\n",
    "    else:\n",
    "        temp_list.append(\"낮\")\n",
    "    \n",
    "print(\"Base Row :\",len(df))\n",
    "print(\"Made Row :\",len(temp_list))\n",
    "df['시간구분'] = temp_list\n",
    "    \n"
   ]
  },
  {
   "cell_type": "code",
   "execution_count": 8,
   "metadata": {},
   "outputs": [
    {
     "name": "stdout",
     "output_type": "stream",
     "text": [
      "Base Row : 296\n",
      "Made Row : 296\n"
     ]
    }
   ],
   "source": [
    "\"\"\"  3. Total_time  \"\"\"\n",
    "from datetime import datetime\n",
    "import time\n",
    "# field_arrive - move_date\n",
    "temp_list = []\n",
    "for i in range(len(df)):\n",
    "    #temp = time.mktime(datetime.strptime(df['field_arrive'][i][:-4], '%Y-%m-%dT%H:%M:%S').timetuple())\n",
    "    #print(df['field_arrive'][i])\n",
    "    temp = pd.Timestamp(df['field_arrive'][i]) # 앞쪽 값에만 .000 붙어있어서 일괄적으로 처리할시 오류생김 -> .으로 Split 하고, [0]으로 맨 앞 값 선택하면 해결될 것 -> 또 오류\n",
    "    # 뒤쪽은 날짜 구분자가 . 으로 되어있어서 오류발생.. -> ??? 굳이 .000 없앨 필요가 없었음\n",
    "    #print(temp)#,type(temp))\n",
    "    #print(df['move_date'][i])#,type(df['move_date'][i]))\n",
    "    temp_list.append(temp - df['move_date'][i])\n",
    "    #print(temp)\n",
    "\n",
    "print(\"Base Row :\",len(df))\n",
    "print(\"Made Row :\",len(temp_list))\n",
    "df['total_time2'] = temp_list"
   ]
  },
  {
   "cell_type": "code",
   "execution_count": 13,
   "metadata": {},
   "outputs": [
    {
     "data": {
      "text/plain": [
       "Timestamp('2019-01-06 13:08:44')"
      ]
     },
     "execution_count": 13,
     "metadata": {},
     "output_type": "execute_result"
    }
   ],
   "source": [
    "pd.Timestamp(df['field_arrive'][1])"
   ]
  },
  {
   "cell_type": "code",
   "execution_count": 26,
   "metadata": {},
   "outputs": [
    {
     "data": {
      "text/plain": [
       "0      2019-01-04T10:57:32\n",
       "1      2019-01-06T13:08:44\n",
       "2      2019-01-07T17:21:58\n",
       "3      2019-01-13T15:18:39\n",
       "4      2019-01-14T21:26:14\n",
       "              ...         \n",
       "291    2021.12.22 23:43:23\n",
       "292    2021.12.23 10:07:18\n",
       "293    2021.12.24 11:42:58\n",
       "294    2021.12.28 18:19:45\n",
       "295    2021.12.29 11:20:04\n",
       "Name: field_arrive, Length: 296, dtype: object"
      ]
     },
     "execution_count": 26,
     "metadata": {},
     "output_type": "execute_result"
    }
   ],
   "source": [
    "df['field_arrive'].apply(lambda x:x[:19])"
   ]
  },
  {
   "cell_type": "code",
   "execution_count": 18,
   "metadata": {},
   "outputs": [
    {
     "ename": "TypeError",
     "evalue": "Cannot convert input [0      2019-01-04T10:57:32.000\n1      2019-01-06T13:08:44.000\n2      2019-01-07T17:21:58.000\n3      2019-01-13T15:18:39.000\n4      2019-01-14T21:26:14.000\n                ...           \n291        2021.12.22 23:43:23\n292        2021.12.23 10:07:18\n293        2021.12.24 11:42:58\n294        2021.12.28 18:19:45\n295        2021.12.29 11:20:04\nName: field_arrive, Length: 296, dtype: object] of type <class 'pandas.core.series.Series'> to Timestamp",
     "output_type": "error",
     "traceback": [
      "\u001b[1;31m---------------------------------------------------------------------------\u001b[0m",
      "\u001b[1;31mTypeError\u001b[0m                                 Traceback (most recent call last)",
      "\u001b[1;32mc:\\Code\\Fire_2209\\Fire_v3.ipynb 셀 11\u001b[0m in \u001b[0;36m<cell line: 1>\u001b[1;34m()\u001b[0m\n\u001b[1;32m----> <a href='vscode-notebook-cell:/c%3A/Code/Fire_2209/Fire_v3.ipynb#X25sZmlsZQ%3D%3D?line=0'>1</a>\u001b[0m df[\u001b[39m'\u001b[39m\u001b[39mtotal_time2\u001b[39m\u001b[39m'\u001b[39m] \u001b[39m=\u001b[39m (\u001b[39mlambda\u001b[39;49;00m x,y : pd\u001b[39m.\u001b[39;49mTimestamp(x) \u001b[39m-\u001b[39;49m y)(df[\u001b[39m'\u001b[39;49m\u001b[39mfield_arrive\u001b[39;49m\u001b[39m'\u001b[39;49m],df[\u001b[39m'\u001b[39;49m\u001b[39mmove_date\u001b[39;49m\u001b[39m'\u001b[39;49m])\n",
      "\u001b[1;32mc:\\Code\\Fire_2209\\Fire_v3.ipynb 셀 11\u001b[0m in \u001b[0;36m<lambda>\u001b[1;34m(x, y)\u001b[0m\n\u001b[1;32m----> <a href='vscode-notebook-cell:/c%3A/Code/Fire_2209/Fire_v3.ipynb#X25sZmlsZQ%3D%3D?line=0'>1</a>\u001b[0m df[\u001b[39m'\u001b[39m\u001b[39mtotal_time2\u001b[39m\u001b[39m'\u001b[39m] \u001b[39m=\u001b[39m (\u001b[39mlambda\u001b[39;00m x,y : pd\u001b[39m.\u001b[39;49mTimestamp(x) \u001b[39m-\u001b[39m y)(df[\u001b[39m'\u001b[39m\u001b[39mfield_arrive\u001b[39m\u001b[39m'\u001b[39m],df[\u001b[39m'\u001b[39m\u001b[39mmove_date\u001b[39m\u001b[39m'\u001b[39m])\n",
      "File \u001b[1;32mc:\\ProgramData\\Anaconda3\\lib\\site-packages\\pandas\\_libs\\tslibs\\timestamps.pyx:1399\u001b[0m, in \u001b[0;36mpandas._libs.tslibs.timestamps.Timestamp.__new__\u001b[1;34m()\u001b[0m\n",
      "File \u001b[1;32mc:\\ProgramData\\Anaconda3\\lib\\site-packages\\pandas\\_libs\\tslibs\\conversion.pyx:446\u001b[0m, in \u001b[0;36mpandas._libs.tslibs.conversion.convert_to_tsobject\u001b[1;34m()\u001b[0m\n",
      "\u001b[1;31mTypeError\u001b[0m: Cannot convert input [0      2019-01-04T10:57:32.000\n1      2019-01-06T13:08:44.000\n2      2019-01-07T17:21:58.000\n3      2019-01-13T15:18:39.000\n4      2019-01-14T21:26:14.000\n                ...           \n291        2021.12.22 23:43:23\n292        2021.12.23 10:07:18\n293        2021.12.24 11:42:58\n294        2021.12.28 18:19:45\n295        2021.12.29 11:20:04\nName: field_arrive, Length: 296, dtype: object] of type <class 'pandas.core.series.Series'> to Timestamp"
     ]
    }
   ],
   "source": [
    "df['total_time2'] = (lambda x,y : pd.Timestamp(x) - y)(df['field_arrive'],df['move_date'])"
   ]
  },
  {
   "cell_type": "code",
   "execution_count": 15,
   "metadata": {},
   "outputs": [
    {
     "ename": "TypeError",
     "evalue": "<lambda>() missing 1 required positional argument: 'y'",
     "output_type": "error",
     "traceback": [
      "\u001b[1;31m---------------------------------------------------------------------------\u001b[0m",
      "\u001b[1;31mTypeError\u001b[0m                                 Traceback (most recent call last)",
      "\u001b[1;32mc:\\Code\\Fire_2209\\Fire_v3.ipynb 셀 12\u001b[0m in \u001b[0;36m<cell line: 1>\u001b[1;34m()\u001b[0m\n\u001b[1;32m----> <a href='vscode-notebook-cell:/c%3A/Code/Fire_2209/Fire_v3.ipynb#X31sZmlsZQ%3D%3D?line=0'>1</a>\u001b[0m df[\u001b[39m'\u001b[39m\u001b[39mtotal_time2\u001b[39m\u001b[39m'\u001b[39m] \u001b[39m=\u001b[39m df[\u001b[39m'\u001b[39;49m\u001b[39mfield_arrive\u001b[39;49m\u001b[39m'\u001b[39;49m]\u001b[39m.\u001b[39;49mapply(\u001b[39mlambda\u001b[39;49;00m x,y : pd\u001b[39m.\u001b[39;49mTimestamp(x) \u001b[39m-\u001b[39;49m y)(df[\u001b[39m'\u001b[39m\u001b[39mmove_date\u001b[39m\u001b[39m'\u001b[39m])\n",
      "File \u001b[1;32mc:\\ProgramData\\Anaconda3\\lib\\site-packages\\pandas\\core\\series.py:4433\u001b[0m, in \u001b[0;36mSeries.apply\u001b[1;34m(self, func, convert_dtype, args, **kwargs)\u001b[0m\n\u001b[0;32m   4323\u001b[0m \u001b[39mdef\u001b[39;00m \u001b[39mapply\u001b[39m(\n\u001b[0;32m   4324\u001b[0m     \u001b[39mself\u001b[39m,\n\u001b[0;32m   4325\u001b[0m     func: AggFuncType,\n\u001b[1;32m   (...)\u001b[0m\n\u001b[0;32m   4328\u001b[0m     \u001b[39m*\u001b[39m\u001b[39m*\u001b[39mkwargs,\n\u001b[0;32m   4329\u001b[0m ) \u001b[39m-\u001b[39m\u001b[39m>\u001b[39m DataFrame \u001b[39m|\u001b[39m Series:\n\u001b[0;32m   4330\u001b[0m     \u001b[39m\"\"\"\u001b[39;00m\n\u001b[0;32m   4331\u001b[0m \u001b[39m    Invoke function on values of Series.\u001b[39;00m\n\u001b[0;32m   4332\u001b[0m \n\u001b[1;32m   (...)\u001b[0m\n\u001b[0;32m   4431\u001b[0m \u001b[39m    dtype: float64\u001b[39;00m\n\u001b[0;32m   4432\u001b[0m \u001b[39m    \"\"\"\u001b[39;00m\n\u001b[1;32m-> 4433\u001b[0m     \u001b[39mreturn\u001b[39;00m SeriesApply(\u001b[39mself\u001b[39;49m, func, convert_dtype, args, kwargs)\u001b[39m.\u001b[39;49mapply()\n",
      "File \u001b[1;32mc:\\ProgramData\\Anaconda3\\lib\\site-packages\\pandas\\core\\apply.py:1082\u001b[0m, in \u001b[0;36mSeriesApply.apply\u001b[1;34m(self)\u001b[0m\n\u001b[0;32m   1078\u001b[0m \u001b[39mif\u001b[39;00m \u001b[39misinstance\u001b[39m(\u001b[39mself\u001b[39m\u001b[39m.\u001b[39mf, \u001b[39mstr\u001b[39m):\n\u001b[0;32m   1079\u001b[0m     \u001b[39m# if we are a string, try to dispatch\u001b[39;00m\n\u001b[0;32m   1080\u001b[0m     \u001b[39mreturn\u001b[39;00m \u001b[39mself\u001b[39m\u001b[39m.\u001b[39mapply_str()\n\u001b[1;32m-> 1082\u001b[0m \u001b[39mreturn\u001b[39;00m \u001b[39mself\u001b[39;49m\u001b[39m.\u001b[39;49mapply_standard()\n",
      "File \u001b[1;32mc:\\ProgramData\\Anaconda3\\lib\\site-packages\\pandas\\core\\apply.py:1137\u001b[0m, in \u001b[0;36mSeriesApply.apply_standard\u001b[1;34m(self)\u001b[0m\n\u001b[0;32m   1131\u001b[0m         values \u001b[39m=\u001b[39m obj\u001b[39m.\u001b[39mastype(\u001b[39mobject\u001b[39m)\u001b[39m.\u001b[39m_values\n\u001b[0;32m   1132\u001b[0m         \u001b[39m# error: Argument 2 to \"map_infer\" has incompatible type\u001b[39;00m\n\u001b[0;32m   1133\u001b[0m         \u001b[39m# \"Union[Callable[..., Any], str, List[Union[Callable[..., Any], str]],\u001b[39;00m\n\u001b[0;32m   1134\u001b[0m         \u001b[39m# Dict[Hashable, Union[Union[Callable[..., Any], str],\u001b[39;00m\n\u001b[0;32m   1135\u001b[0m         \u001b[39m# List[Union[Callable[..., Any], str]]]]]\"; expected\u001b[39;00m\n\u001b[0;32m   1136\u001b[0m         \u001b[39m# \"Callable[[Any], Any]\"\u001b[39;00m\n\u001b[1;32m-> 1137\u001b[0m         mapped \u001b[39m=\u001b[39m lib\u001b[39m.\u001b[39;49mmap_infer(\n\u001b[0;32m   1138\u001b[0m             values,\n\u001b[0;32m   1139\u001b[0m             f,  \u001b[39m# type: ignore[arg-type]\u001b[39;49;00m\n\u001b[0;32m   1140\u001b[0m             convert\u001b[39m=\u001b[39;49m\u001b[39mself\u001b[39;49m\u001b[39m.\u001b[39;49mconvert_dtype,\n\u001b[0;32m   1141\u001b[0m         )\n\u001b[0;32m   1143\u001b[0m \u001b[39mif\u001b[39;00m \u001b[39mlen\u001b[39m(mapped) \u001b[39mand\u001b[39;00m \u001b[39misinstance\u001b[39m(mapped[\u001b[39m0\u001b[39m], ABCSeries):\n\u001b[0;32m   1144\u001b[0m     \u001b[39m# GH#43986 Need to do list(mapped) in order to get treated as nested\u001b[39;00m\n\u001b[0;32m   1145\u001b[0m     \u001b[39m#  See also GH#25959 regarding EA support\u001b[39;00m\n\u001b[0;32m   1146\u001b[0m     \u001b[39mreturn\u001b[39;00m obj\u001b[39m.\u001b[39m_constructor_expanddim(\u001b[39mlist\u001b[39m(mapped), index\u001b[39m=\u001b[39mobj\u001b[39m.\u001b[39mindex)\n",
      "File \u001b[1;32mc:\\ProgramData\\Anaconda3\\lib\\site-packages\\pandas\\_libs\\lib.pyx:2870\u001b[0m, in \u001b[0;36mpandas._libs.lib.map_infer\u001b[1;34m()\u001b[0m\n",
      "\u001b[1;31mTypeError\u001b[0m: <lambda>() missing 1 required positional argument: 'y'"
     ]
    }
   ],
   "source": [
    "df['total_time2'] = df['field_arrive'].apply(lambda x,y : pd.Timestamp(x) - y)(df['move_date'])"
   ]
  },
  {
   "cell_type": "code",
   "execution_count": 17,
   "metadata": {},
   "outputs": [
    {
     "ename": "KeyError",
     "evalue": "'field_arrive'",
     "output_type": "error",
     "traceback": [
      "\u001b[1;31m---------------------------------------------------------------------------\u001b[0m",
      "\u001b[1;31mKeyError\u001b[0m                                  Traceback (most recent call last)",
      "\u001b[1;32mc:\\Code\\Fire_2209\\Fire_v3.ipynb 셀 13\u001b[0m in \u001b[0;36m<cell line: 1>\u001b[1;34m()\u001b[0m\n\u001b[1;32m----> <a href='vscode-notebook-cell:/c%3A/Code/Fire_2209/Fire_v3.ipynb#X32sZmlsZQ%3D%3D?line=0'>1</a>\u001b[0m df\u001b[39m.\u001b[39;49mapply(\u001b[39mlambda\u001b[39;49;00m x : pd\u001b[39m.\u001b[39;49mTimestamp(x[\u001b[39m'\u001b[39;49m\u001b[39mfield_arrive\u001b[39;49m\u001b[39m'\u001b[39;49m]) \u001b[39m-\u001b[39;49m x[\u001b[39m'\u001b[39;49m\u001b[39mmove_date\u001b[39;49m\u001b[39m'\u001b[39;49m])\n",
      "File \u001b[1;32mc:\\ProgramData\\Anaconda3\\lib\\site-packages\\pandas\\core\\frame.py:8839\u001b[0m, in \u001b[0;36mDataFrame.apply\u001b[1;34m(self, func, axis, raw, result_type, args, **kwargs)\u001b[0m\n\u001b[0;32m   8828\u001b[0m \u001b[39mfrom\u001b[39;00m \u001b[39mpandas\u001b[39;00m\u001b[39m.\u001b[39;00m\u001b[39mcore\u001b[39;00m\u001b[39m.\u001b[39;00m\u001b[39mapply\u001b[39;00m \u001b[39mimport\u001b[39;00m frame_apply\n\u001b[0;32m   8830\u001b[0m op \u001b[39m=\u001b[39m frame_apply(\n\u001b[0;32m   8831\u001b[0m     \u001b[39mself\u001b[39m,\n\u001b[0;32m   8832\u001b[0m     func\u001b[39m=\u001b[39mfunc,\n\u001b[1;32m   (...)\u001b[0m\n\u001b[0;32m   8837\u001b[0m     kwargs\u001b[39m=\u001b[39mkwargs,\n\u001b[0;32m   8838\u001b[0m )\n\u001b[1;32m-> 8839\u001b[0m \u001b[39mreturn\u001b[39;00m op\u001b[39m.\u001b[39;49mapply()\u001b[39m.\u001b[39m__finalize__(\u001b[39mself\u001b[39m, method\u001b[39m=\u001b[39m\u001b[39m\"\u001b[39m\u001b[39mapply\u001b[39m\u001b[39m\"\u001b[39m)\n",
      "File \u001b[1;32mc:\\ProgramData\\Anaconda3\\lib\\site-packages\\pandas\\core\\apply.py:727\u001b[0m, in \u001b[0;36mFrameApply.apply\u001b[1;34m(self)\u001b[0m\n\u001b[0;32m    724\u001b[0m \u001b[39melif\u001b[39;00m \u001b[39mself\u001b[39m\u001b[39m.\u001b[39mraw:\n\u001b[0;32m    725\u001b[0m     \u001b[39mreturn\u001b[39;00m \u001b[39mself\u001b[39m\u001b[39m.\u001b[39mapply_raw()\n\u001b[1;32m--> 727\u001b[0m \u001b[39mreturn\u001b[39;00m \u001b[39mself\u001b[39;49m\u001b[39m.\u001b[39;49mapply_standard()\n",
      "File \u001b[1;32mc:\\ProgramData\\Anaconda3\\lib\\site-packages\\pandas\\core\\apply.py:851\u001b[0m, in \u001b[0;36mFrameApply.apply_standard\u001b[1;34m(self)\u001b[0m\n\u001b[0;32m    850\u001b[0m \u001b[39mdef\u001b[39;00m \u001b[39mapply_standard\u001b[39m(\u001b[39mself\u001b[39m):\n\u001b[1;32m--> 851\u001b[0m     results, res_index \u001b[39m=\u001b[39m \u001b[39mself\u001b[39;49m\u001b[39m.\u001b[39;49mapply_series_generator()\n\u001b[0;32m    853\u001b[0m     \u001b[39m# wrap results\u001b[39;00m\n\u001b[0;32m    854\u001b[0m     \u001b[39mreturn\u001b[39;00m \u001b[39mself\u001b[39m\u001b[39m.\u001b[39mwrap_results(results, res_index)\n",
      "File \u001b[1;32mc:\\ProgramData\\Anaconda3\\lib\\site-packages\\pandas\\core\\apply.py:867\u001b[0m, in \u001b[0;36mFrameApply.apply_series_generator\u001b[1;34m(self)\u001b[0m\n\u001b[0;32m    864\u001b[0m \u001b[39mwith\u001b[39;00m option_context(\u001b[39m\"\u001b[39m\u001b[39mmode.chained_assignment\u001b[39m\u001b[39m\"\u001b[39m, \u001b[39mNone\u001b[39;00m):\n\u001b[0;32m    865\u001b[0m     \u001b[39mfor\u001b[39;00m i, v \u001b[39min\u001b[39;00m \u001b[39menumerate\u001b[39m(series_gen):\n\u001b[0;32m    866\u001b[0m         \u001b[39m# ignore SettingWithCopy here in case the user mutates\u001b[39;00m\n\u001b[1;32m--> 867\u001b[0m         results[i] \u001b[39m=\u001b[39m \u001b[39mself\u001b[39;49m\u001b[39m.\u001b[39;49mf(v)\n\u001b[0;32m    868\u001b[0m         \u001b[39mif\u001b[39;00m \u001b[39misinstance\u001b[39m(results[i], ABCSeries):\n\u001b[0;32m    869\u001b[0m             \u001b[39m# If we have a view on v, we need to make a copy because\u001b[39;00m\n\u001b[0;32m    870\u001b[0m             \u001b[39m#  series_generator will swap out the underlying data\u001b[39;00m\n\u001b[0;32m    871\u001b[0m             results[i] \u001b[39m=\u001b[39m results[i]\u001b[39m.\u001b[39mcopy(deep\u001b[39m=\u001b[39m\u001b[39mFalse\u001b[39;00m)\n",
      "\u001b[1;32mc:\\Code\\Fire_2209\\Fire_v3.ipynb 셀 13\u001b[0m in \u001b[0;36m<lambda>\u001b[1;34m(x)\u001b[0m\n\u001b[1;32m----> <a href='vscode-notebook-cell:/c%3A/Code/Fire_2209/Fire_v3.ipynb#X32sZmlsZQ%3D%3D?line=0'>1</a>\u001b[0m df\u001b[39m.\u001b[39mapply(\u001b[39mlambda\u001b[39;00m x : pd\u001b[39m.\u001b[39mTimestamp(x[\u001b[39m'\u001b[39;49m\u001b[39mfield_arrive\u001b[39;49m\u001b[39m'\u001b[39;49m]) \u001b[39m-\u001b[39m x[\u001b[39m'\u001b[39m\u001b[39mmove_date\u001b[39m\u001b[39m'\u001b[39m])\n",
      "File \u001b[1;32mc:\\ProgramData\\Anaconda3\\lib\\site-packages\\pandas\\core\\series.py:958\u001b[0m, in \u001b[0;36mSeries.__getitem__\u001b[1;34m(self, key)\u001b[0m\n\u001b[0;32m    955\u001b[0m     \u001b[39mreturn\u001b[39;00m \u001b[39mself\u001b[39m\u001b[39m.\u001b[39m_values[key]\n\u001b[0;32m    957\u001b[0m \u001b[39melif\u001b[39;00m key_is_scalar:\n\u001b[1;32m--> 958\u001b[0m     \u001b[39mreturn\u001b[39;00m \u001b[39mself\u001b[39;49m\u001b[39m.\u001b[39;49m_get_value(key)\n\u001b[0;32m    960\u001b[0m \u001b[39mif\u001b[39;00m is_hashable(key):\n\u001b[0;32m    961\u001b[0m     \u001b[39m# Otherwise index.get_value will raise InvalidIndexError\u001b[39;00m\n\u001b[0;32m    962\u001b[0m     \u001b[39mtry\u001b[39;00m:\n\u001b[0;32m    963\u001b[0m         \u001b[39m# For labels that don't resolve as scalars like tuples and frozensets\u001b[39;00m\n",
      "File \u001b[1;32mc:\\ProgramData\\Anaconda3\\lib\\site-packages\\pandas\\core\\series.py:1069\u001b[0m, in \u001b[0;36mSeries._get_value\u001b[1;34m(self, label, takeable)\u001b[0m\n\u001b[0;32m   1066\u001b[0m     \u001b[39mreturn\u001b[39;00m \u001b[39mself\u001b[39m\u001b[39m.\u001b[39m_values[label]\n\u001b[0;32m   1068\u001b[0m \u001b[39m# Similar to Index.get_value, but we do not fall back to positional\u001b[39;00m\n\u001b[1;32m-> 1069\u001b[0m loc \u001b[39m=\u001b[39m \u001b[39mself\u001b[39;49m\u001b[39m.\u001b[39;49mindex\u001b[39m.\u001b[39;49mget_loc(label)\n\u001b[0;32m   1070\u001b[0m \u001b[39mreturn\u001b[39;00m \u001b[39mself\u001b[39m\u001b[39m.\u001b[39mindex\u001b[39m.\u001b[39m_get_values_for_loc(\u001b[39mself\u001b[39m, loc, label)\n",
      "File \u001b[1;32mc:\\ProgramData\\Anaconda3\\lib\\site-packages\\pandas\\core\\indexes\\range.py:389\u001b[0m, in \u001b[0;36mRangeIndex.get_loc\u001b[1;34m(self, key, method, tolerance)\u001b[0m\n\u001b[0;32m    387\u001b[0m             \u001b[39mraise\u001b[39;00m \u001b[39mKeyError\u001b[39;00m(key) \u001b[39mfrom\u001b[39;00m \u001b[39merr\u001b[39;00m\n\u001b[0;32m    388\u001b[0m     \u001b[39mself\u001b[39m\u001b[39m.\u001b[39m_check_indexing_error(key)\n\u001b[1;32m--> 389\u001b[0m     \u001b[39mraise\u001b[39;00m \u001b[39mKeyError\u001b[39;00m(key)\n\u001b[0;32m    390\u001b[0m \u001b[39mreturn\u001b[39;00m \u001b[39msuper\u001b[39m()\u001b[39m.\u001b[39mget_loc(key, method\u001b[39m=\u001b[39mmethod, tolerance\u001b[39m=\u001b[39mtolerance)\n",
      "\u001b[1;31mKeyError\u001b[0m: 'field_arrive'"
     ]
    }
   ],
   "source": [
    "df.apply(lambda x : pd.Timestamp(x['field_arrive']) - x['move_date'])"
   ]
  },
  {
   "cell_type": "code",
   "execution_count": 240,
   "metadata": {},
   "outputs": [
    {
     "name": "stdout",
     "output_type": "stream",
     "text": [
      "Base Row : 296\n",
      "Made Row_1 : 296\n",
      "Made Row_2 : 296\n"
     ]
    }
   ],
   "source": [
    "\"\"\"  4. time2  \"\"\"\n",
    "# date 에서 시간 추출 + date 형태 변환\n",
    "import datetime\n",
    "temp_list = []\n",
    "temb_list = []\n",
    "for i in range(len(df)):\n",
    "    temp = (datetime.datetime.strptime('1899-12-30', '%Y-%m-%d') + datetime.timedelta(df['date'][i])).strftime('%Y-%m-%d %H:%M:%S')\n",
    "    temp_list.append(temp)\n",
    "    temb_list.append(str(temp)[11:])\n",
    "    \n",
    "print(\"Base Row :\",len(df))\n",
    "print(\"Made Row_1 :\",len(temp_list))\n",
    "print(\"Made Row_2 :\",len(temb_list))\n",
    "df['date'] = temp_list\n",
    "df['time2'] = temb_list"
   ]
  },
  {
   "cell_type": "code",
   "execution_count": 241,
   "metadata": {},
   "outputs": [
    {
     "name": "stdout",
     "output_type": "stream",
     "text": [
      "Base Row : 296\n",
      "Made Row : 296\n"
     ]
    }
   ],
   "source": [
    "\"\"\" 5. 시간구분2  \"\"\"\n",
    "# time2 값에 따라 분류\n",
    "temp_list = []\n",
    "for i in range(len(df)):\n",
    "    temp = df['time2'][i]\n",
    "    #print(temp[:2],temp[3:5],temp[6:])\n",
    "    temp = timedelta(hours=int(temp[:2]), minutes=int(temp[3:5]), seconds=int(temp[6:]))\n",
    "    #print(temp,type(temp))\n",
    "    if (temp>=timedelta(hours=11)) & (temp<timedelta(hours=14)):\n",
    "        temp_list.append(\"점심\")\n",
    "    elif (temp>=timedelta(hours=17)) & (temp<timedelta(hours=20)):\n",
    "        temp_list.append(\"퇴근\")\n",
    "    elif ((temp>=timedelta(hours=20)) & (temp<timedelta(hours=24)) or temp<timedelta(hours=7)):\n",
    "        temp_list.append(\"일몰\")\n",
    "    elif (temp>=timedelta(hours=7)) & (temp<timedelta(hours=10)):\n",
    "        temp_list.append(\"출근\")\n",
    "    else:\n",
    "        temp_list.append(\"낮\")\n",
    "    \n",
    "print(\"Base Row :\",len(df))\n",
    "print(\"Made Row :\",len(temp_list))\n",
    "df['시간구분2'] = temp_list"
   ]
  },
  {
   "cell_type": "code",
   "execution_count": 244,
   "metadata": {},
   "outputs": [
    {
     "name": "stdout",
     "output_type": "stream",
     "text": [
      "Base Row : 296\n",
      "Made Row : 296\n"
     ]
    }
   ],
   "source": [
    "\"\"\"  6. 소요시간  \"\"\"\n",
    "# total_time2 - total_time\n",
    "temp_list = []\n",
    "for i in range(len(df)):\n",
    "    temp = datetime.timedelta(df['total_time'][i])\n",
    "    temp_list.append(df['total_time2'][i] - temp)\n",
    "\n",
    "print(\"Base Row :\",len(df))\n",
    "print(\"Made Row :\",len(temp_list))\n",
    "df['소요시간'] = temp_list"
   ]
  },
  {
   "cell_type": "code",
   "execution_count": 5,
   "metadata": {},
   "outputs": [
    {
     "data": {
      "text/plain": [
       "''"
      ]
     },
     "execution_count": 5,
     "metadata": {},
     "output_type": "execute_result"
    }
   ],
   "source": [
    "\"\"\" 6. 소요시간 _ lambda\"\"\"\n",
    "df[]"
   ]
  },
  {
   "cell_type": "code",
   "execution_count": 245,
   "metadata": {},
   "outputs": [
    {
     "name": "stdout",
     "output_type": "stream",
     "text": [
      "Base Row : 296\n",
      "Made Row : 296\n"
     ]
    }
   ],
   "source": [
    "\"\"\"  7. 동일시간  \"\"\"\n",
    "# 시간구분 == 시간구분2\n",
    "temp_list = []\n",
    "for i in range(len(df)):\n",
    "    if df['시간구분'][i] == df['시간구분2'][i]:\n",
    "        temp_list.append(\"TRUE\")\n",
    "    else:\n",
    "        temp_list.append(\"FALSE\")\n",
    "print(\"Base Row :\",len(df))\n",
    "print(\"Made Row :\",len(temp_list))\n",
    "df['동일시간'] = temp_list\n"
   ]
  },
  {
   "cell_type": "markdown",
   "metadata": {},
   "source": [
    "### 테이블 간 컬럼 차이\n",
    "- 군포 : car_2 없음\n",
    "- 화성 : center_2 없음\n",
    "- 해결방법 : 지역 2 데이터 처리시 Try - Except 처리"
   ]
  },
  {
   "cell_type": "code",
   "execution_count": 246,
   "metadata": {},
   "outputs": [
    {
     "name": "stdout",
     "output_type": "stream",
     "text": [
      "Base Row : 296\n",
      "Made Row : 296\n"
     ]
    }
   ],
   "source": [
    "\"\"\"  8. 지역  \"\"\" # 지역, 지역 2,\n",
    "temp_list = []\n",
    "for i in range(len(df)):\n",
    "    #temp = df['center'][i][:2]\n",
    "    #print(df['center'][i],temp)\n",
    "    temp_list.append(df['center'][i][:2])\n",
    "\n",
    "print(\"Base Row :\",len(df))\n",
    "print(\"Made Row :\",len(temp_list))\n",
    "df['지역'] = temp_list"
   ]
  },
  {
   "cell_type": "code",
   "execution_count": 247,
   "metadata": {},
   "outputs": [
    {
     "name": "stdout",
     "output_type": "stream",
     "text": [
      "Base Row : 296\n",
      "Made Row : 296\n"
     ]
    }
   ],
   "source": [
    "\"\"\"  9. 지역2  \"\"\"\n",
    "temp_list = []\n",
    "for i in range(len(df)):\n",
    "    try: # 군포, 파주 테이블 처리 (Center_2 있음)\n",
    "        temp = df['center_2'][i][:2]\n",
    "        #print(df['center_2'][i],temp,\"1\")\n",
    "    except: # 화성 테이블 처리 (Center_2 없음)\n",
    "        temp = df['car_2'][i][:2]\n",
    "        #print(df['center_2'][i],temp,\"2\")\n",
    "        \n",
    "    temp_list.append(temp)\n",
    "\n",
    "print(\"Base Row :\",len(df))\n",
    "print(\"Made Row :\",len(temp_list))\n",
    "df['지역2'] = temp_list"
   ]
  },
  {
   "cell_type": "code",
   "execution_count": 248,
   "metadata": {},
   "outputs": [
    {
     "name": "stdout",
     "output_type": "stream",
     "text": [
      "Base Row : 296\n",
      "Made Row : 296\n"
     ]
    }
   ],
   "source": [
    "\"\"\"  10. 동일지역  \"\"\"\n",
    "temp_list = []\n",
    "for i in range(len(df)):\n",
    "    if df['지역'][i] == df['지역2'][i]:\n",
    "        temp_list.append(\"TRUE\")\n",
    "    else:\n",
    "        temp_list.append(\"FALSE\")\n",
    "\n",
    "print(\"Base Row :\",len(df))\n",
    "print(\"Made Row :\",len(temp_list))\n",
    "df['동일지역'] = temp_list"
   ]
  },
  {
   "cell_type": "code",
   "execution_count": 251,
   "metadata": {},
   "outputs": [],
   "source": [
    "\"\"\"  11. 결과출력  \"\"\"\n",
    "df = df.set_index('no')\n",
    "with pd.ExcelWriter('Data/signal_guide/군포_구급_우선신호_버퍼_교차_시간차.xlsx') as writer:\n",
    "    df.to_excel(writer, sheet_name = '군포_구급_우선신호_버퍼_교차')\n",
    "    df[df['동일시간']==\"TRUE\"].to_excel(writer, sheet_name = '동일시간')\n",
    "    df[df['동일지역']==\"TRUE\"].to_excel(writer, sheet_name = '동일지역')"
   ]
  },
  {
   "cell_type": "markdown",
   "metadata": {},
   "source": [
    "### 주의사항\n",
    "- 앞, 뒤 분류가 애매한 녀석들 있음\n",
    "- 저거 분류 이후에도 있음\n",
    "- 한 두시간 걸릴라나? 오늘안에 Ipynb 마무리\n",
    "\n",
    "### 문의사항\n",
    "- 각 시트별 컬럼, 컬럼위치 맞춰야 하는지? : 아니용\n",
    "\n",
    "### .py 만들때 유의점\n",
    "- for 문으로 리스트로 준 지역명 전체 돌리도록"
   ]
  }
 ],
 "metadata": {
  "kernelspec": {
   "display_name": "Python 3.9.12 ('base')",
   "language": "python",
   "name": "python3"
  },
  "language_info": {
   "codemirror_mode": {
    "name": "ipython",
    "version": 3
   },
   "file_extension": ".py",
   "mimetype": "text/x-python",
   "name": "python",
   "nbconvert_exporter": "python",
   "pygments_lexer": "ipython3",
   "version": "3.9.12 (main, Apr  4 2022, 05:22:27) [MSC v.1916 64 bit (AMD64)]"
  },
  "orig_nbformat": 4,
  "vscode": {
   "interpreter": {
    "hash": "ad2bdc8ecc057115af97d19610ffacc2b4e99fae6737bb82f5d7fb13d2f2c186"
   }
  }
 },
 "nbformat": 4,
 "nbformat_minor": 2
}
